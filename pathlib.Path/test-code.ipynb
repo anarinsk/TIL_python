{
 "cells": [
  {
   "cell_type": "code",
   "execution_count": 23,
   "metadata": {},
   "outputs": [],
   "source": [
    "import pathlib\n",
    "import os"
   ]
  },
  {
   "cell_type": "code",
   "execution_count": 14,
   "metadata": {},
   "outputs": [
    {
     "name": "stdout",
     "output_type": "stream",
     "text": [
      "pathlb.Path를 테스트하기 위한 테스트파일입니다! \n"
     ]
    }
   ],
   "source": [
    "path = pathlib.Path('PATH테스트.txt')\n",
    "file = path.open('r', encoding=\"UTF-8\")\n",
    "\n",
    "line = file.readline()\n",
    "print(line)\n",
    "file.close()"
   ]
  },
  {
   "cell_type": "code",
   "execution_count": 6,
   "metadata": {},
   "outputs": [
    {
     "name": "stdout",
     "output_type": "stream",
     "text": [
      "<_io.TextIOWrapper name='PATH테스트.txt' mode='r' encoding='cp949'>\n"
     ]
    }
   ],
   "source": [
    "print(file)"
   ]
  },
  {
   "cell_type": "code",
   "execution_count": 15,
   "metadata": {},
   "outputs": [
    {
     "name": "stdout",
     "output_type": "stream",
     "text": [
      "PATH테스트.txt\n",
      ".\n",
      "[WindowsPath('.')]\n",
      "('PATH테스트.txt',)\n"
     ]
    }
   ],
   "source": [
    "## 경로 분석 \n",
    "\n",
    "print(path)\n",
    "print(path.parent)\n",
    "print(list(path.parents))\n",
    "print(path.parts)"
   ]
  },
  {
   "cell_type": "code",
   "execution_count": 18,
   "metadata": {},
   "outputs": [
    {
     "data": {
      "text/plain": [
       "WindowsPath('e:/github/MDs/TIL_python/pathlib.Path')"
      ]
     },
     "execution_count": 18,
     "metadata": {},
     "output_type": "execute_result"
    }
   ],
   "source": [
    "## 실행한 스크립트의 현재 폴더경로 얻기 \n",
    "\n",
    "import pathlib\n",
    "path = pathlib.Path.cwd()\n",
    "\n",
    "path"
   ]
  },
  {
   "cell_type": "code",
   "execution_count": 21,
   "metadata": {},
   "outputs": [
    {
     "name": "stdout",
     "output_type": "stream",
     "text": [
      "[WindowsPath('another_dir'), WindowsPath('PATH테스트.txt'), WindowsPath('test-code.ipynb')]\n"
     ]
    }
   ],
   "source": [
    "import pathlib\n",
    "\n",
    "\n",
    "path = pathlib.Path('.')\n",
    "files = path.glob('*')\n",
    "\n",
    "print(list(files))"
   ]
  },
  {
   "cell_type": "code",
   "execution_count": 22,
   "metadata": {},
   "outputs": [
    {
     "name": "stdout",
     "output_type": "stream",
     "text": [
      "[WindowsPath('another_dir'), WindowsPath('PATH테스트.txt'), WindowsPath('test-code.ipynb'), WindowsPath('another_dir/PATH테스트-2.txt')]\n"
     ]
    }
   ],
   "source": [
    "import pathlib\n",
    "\n",
    "path = pathlib.Path('.')\n",
    "files = path.glob('**/*')\n",
    "\n",
    "print(list(files))"
   ]
  },
  {
   "cell_type": "code",
   "execution_count": 29,
   "metadata": {},
   "outputs": [],
   "source": [
    "file = pathlib.Path('PATH테스트.txt')\n",
    "directory = file.parent / \"new_directory\"\n",
    "directory.mkdir(exist_ok=True, parents=True)\n",
    "#directory.unlink()"
   ]
  },
  {
   "cell_type": "code",
   "execution_count": 34,
   "metadata": {},
   "outputs": [
    {
     "name": "stdout",
     "output_type": "stream",
     "text": [
      "[]\n"
     ]
    }
   ],
   "source": [
    "files_in_directory = directory.iterdir()\n",
    "di"
   ]
  },
  {
   "cell_type": "code",
   "execution_count": null,
   "metadata": {},
   "outputs": [],
   "source": []
  }
 ],
 "metadata": {
  "kernelspec": {
   "display_name": "Python 3.10.6 ('python_v310-pandas')",
   "language": "python",
   "name": "python3"
  },
  "language_info": {
   "codemirror_mode": {
    "name": "ipython",
    "version": 3
   },
   "file_extension": ".py",
   "mimetype": "text/x-python",
   "name": "python",
   "nbconvert_exporter": "python",
   "pygments_lexer": "ipython3",
   "version": "3.10.6"
  },
  "orig_nbformat": 4,
  "vscode": {
   "interpreter": {
    "hash": "b737d26c10f86bf70bbbf6f5ab84a4a90b3cfd6f06fd680af1dad3580515750f"
   }
  }
 },
 "nbformat": 4,
 "nbformat_minor": 2
}
