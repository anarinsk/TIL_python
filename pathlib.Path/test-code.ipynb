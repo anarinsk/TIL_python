{
 "cells": [
  {
   "cell_type": "code",
   "execution_count": 1,
   "metadata": {},
   "outputs": [],
   "source": [
    "from pathlib import Path\n",
    "import os"
   ]
  },
  {
   "cell_type": "code",
   "execution_count": 4,
   "metadata": {},
   "outputs": [
    {
     "name": "stdout",
     "output_type": "stream",
     "text": [
      "pathlb.Path를 테스트하기 위한 테스트파일입니다! \n"
     ]
    }
   ],
   "source": [
    "path = Path('PATH테스트.txt')\n",
    "file = path.open('r', encoding=\"UTF-8\")\n",
    "\n",
    "line = file.readline()\n",
    "print(line)\n",
    "file.close()"
   ]
  },
  {
   "cell_type": "code",
   "execution_count": 5,
   "metadata": {},
   "outputs": [
    {
     "name": "stdout",
     "output_type": "stream",
     "text": [
      "<_io.TextIOWrapper name='PATH테스트.txt' mode='r' encoding='UTF-8'>\n"
     ]
    }
   ],
   "source": [
    "print(file)"
   ]
  },
  {
   "cell_type": "code",
   "execution_count": 6,
   "metadata": {},
   "outputs": [
    {
     "name": "stdout",
     "output_type": "stream",
     "text": [
      "PATH테스트.txt\n",
      ".\n",
      "[WindowsPath('.')]\n",
      "('PATH테스트.txt',)\n"
     ]
    }
   ],
   "source": [
    "## 경로 분석 \n",
    "\n",
    "print(path)\n",
    "print(path.parent)\n",
    "print(list(path.parents))\n",
    "print(path.parts)"
   ]
  },
  {
   "cell_type": "code",
   "execution_count": 7,
   "metadata": {},
   "outputs": [
    {
     "data": {
      "text/plain": [
       "WindowsPath('e:/github/MDs/TIL_python/pathlib.Path')"
      ]
     },
     "execution_count": 7,
     "metadata": {},
     "output_type": "execute_result"
    }
   ],
   "source": [
    "## 실행한 스크립트의 현재 폴더경로 얻기 \n",
    "\n",
    "cpath = Path.cwd()\n",
    "cpath"
   ]
  },
  {
   "cell_type": "code",
   "execution_count": 8,
   "metadata": {},
   "outputs": [
    {
     "name": "stdout",
     "output_type": "stream",
     "text": [
      "[WindowsPath('another_dir'), WindowsPath('new_directory'), WindowsPath('pathlibPath.md'), WindowsPath('PATH테스트.txt'), WindowsPath('test-code.ipynb')]\n"
     ]
    }
   ],
   "source": [
    "path = Path('.')\n",
    "files = path.glob('*')\n",
    "\n",
    "print(list(files))"
   ]
  },
  {
   "cell_type": "code",
   "execution_count": 9,
   "metadata": {},
   "outputs": [
    {
     "name": "stdout",
     "output_type": "stream",
     "text": [
      "[WindowsPath('another_dir'), WindowsPath('new_directory'), WindowsPath('pathlibPath.md'), WindowsPath('PATH테스트.txt'), WindowsPath('test-code.ipynb'), WindowsPath('another_dir/PATH테스트-2.txt')]\n"
     ]
    }
   ],
   "source": [
    "path = Path('.')\n",
    "files = path.glob('**/*')\n",
    "\n",
    "print(list(files))"
   ]
  },
  {
   "cell_type": "code",
   "execution_count": 29,
   "metadata": {},
   "outputs": [],
   "source": [
    "file = pathlib.Path('PATH테스트.txt')\n",
    "directory = file.parent / \"new_directory\"\n",
    "directory.mkdir(exist_ok=True, parents=True)\n",
    "#directory.unlink()"
   ]
  }
 ],
 "metadata": {
  "kernelspec": {
   "display_name": "Python 3.10.6 ('python10+pandas')",
   "language": "python",
   "name": "python3"
  },
  "language_info": {
   "codemirror_mode": {
    "name": "ipython",
    "version": 3
   },
   "file_extension": ".py",
   "mimetype": "text/x-python",
   "name": "python",
   "nbconvert_exporter": "python",
   "pygments_lexer": "ipython3",
   "version": "3.10.6"
  },
  "orig_nbformat": 4,
  "vscode": {
   "interpreter": {
    "hash": "89fc1f298c2fd2e3e2f5b0e0c6b15fa3d2318744fc65df9bb6830fe214b4f633"
   }
  }
 },
 "nbformat": 4,
 "nbformat_minor": 2
}
